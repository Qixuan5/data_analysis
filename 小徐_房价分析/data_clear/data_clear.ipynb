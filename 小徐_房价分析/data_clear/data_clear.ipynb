{
 "cells": [
  {
   "cell_type": "code",
   "execution_count": 99,
   "metadata": {},
   "outputs": [],
   "source": [
    "import pandas as pd\n",
    "import numpy as np\n",
    "import re"
   ]
  },
  {
   "cell_type": "code",
   "execution_count": 100,
   "metadata": {},
   "outputs": [],
   "source": [
    "df = pd.read_excel('深圳.xlsx')"
   ]
  },
  {
   "cell_type": "code",
   "execution_count": 101,
   "metadata": {},
   "outputs": [
    {
     "name": "stdout",
     "output_type": "stream",
     "text": [
      "Index(['分区', '小区名称', '所在区域', '房屋户型', '建筑面积', '套内面积', '房屋朝向', '装修情况', '供暖方式',\n",
      "       '楼层高度', '所在楼层', '户型结构', '建筑类型', '建筑结构', '梯户比例', '配备电梯', '挂牌时间', '上次交易',\n",
      "       '房屋年限', '抵押信息', '交易权属', '房屋用途', '产权所属', '房本备件', '标题', '总价', '单价', '地区',\n",
      "       '几室几厅', '房屋面积', '楼层', '建立时间', '户型', '关注人数', '发布日期', 'VR看装修', '房本满五年',\n",
      "       '近地铁', '房本满两年', '随时看房', '详情页'],\n",
      "      dtype='object')\n"
     ]
    }
   ],
   "source": [
    "print(df.columns)"
   ]
  },
  {
   "cell_type": "code",
   "execution_count": 102,
   "metadata": {},
   "outputs": [],
   "source": [
    "# 1. 删除指定的列\n",
    "columns_to_drop = ['楼层高度', '建筑面积', '楼层', '建立时间', '房本满五年', '房本满两年', '房本备件', '分区', '套内面积', '地区', '几室几厅', '标题', '户型']\n",
    "df.drop(columns=columns_to_drop, inplace=True)"
   ]
  },
  {
   "cell_type": "code",
   "execution_count": 103,
   "metadata": {},
   "outputs": [],
   "source": [
    "# 2. 处理 '所在楼层' 列\n",
    "def process_floor(floor_info):\n",
    "    if isinstance(floor_info, str):\n",
    "        match = re.match(r'(.*?)\\s*\\(共(\\d+)层\\)', floor_info)\n",
    "        if match:\n",
    "            floor_level = match.group(1).strip()  # 楼层高低\n",
    "            total_floors = match.group(2)  # 总楼层\n",
    "            return floor_level, total_floors\n",
    "    return np.nan, np.nan\n",
    "\n",
    "# 创建新的列 '楼层高低' 和 '楼层总高度'\n",
    "df[['楼层高低', '楼层总高度']] = df['所在楼层'].apply(lambda x: pd.Series(process_floor(x)))\n",
    "df.drop(columns=['所在楼层'], inplace=True)"
   ]
  },
  {
   "cell_type": "code",
   "execution_count": 104,
   "metadata": {},
   "outputs": [],
   "source": [
    "# 3. 填充 '梯户比例' 列中无电梯的行\n",
    "df['梯户比例'] = df.apply(lambda row: '无电梯' if row['配备电梯'] == '无' else row['梯户比例'], axis=1)"
   ]
  },
  {
   "cell_type": "code",
   "execution_count": 105,
   "metadata": {},
   "outputs": [],
   "source": [
    "# 4. 处理 '抵押信息' 列，提取‘无抵押’和‘有抵押’\n",
    "def process_mortgage_info(mortgage_info):\n",
    "    if isinstance(mortgage_info, str):\n",
    "        if '无抵押' in mortgage_info:\n",
    "            return '无抵押'\n",
    "        elif '有抵押' in mortgage_info:\n",
    "            return '有抵押'\n",
    "    return np.nan\n",
    "\n",
    "df['抵押信息'] = df['抵押信息'].apply(process_mortgage_info)"
   ]
  },
  {
   "cell_type": "code",
   "execution_count": 106,
   "metadata": {},
   "outputs": [],
   "source": [
    "def clean_housing_data(df):\n",
    "    import numpy as np\n",
    "\n",
    "    df['所在区域_clean'] = df['所在区域'].replace({r'\\s+': ' '}, regex=True).str.strip()\n",
    "    \n",
    "    area_split = df['所在区域_clean'].str.split(' ', expand=True)\n",
    "    df['区'] = area_split[0] if area_split.shape[1] > 0 else np.nan\n",
    "    df['街道'] = area_split[1] if area_split.shape[1] > 1 else np.nan\n",
    "    df['环线位置'] = area_split[2] if area_split.shape[1] > 2 else np.nan\n",
    "    df.drop(columns=['所在区域_clean'], inplace=True)\n",
    "    df.drop(columns=['所在区域'], inplace=True)\n",
    "\n",
    "    layout_split = df['房屋户型'].str.extract(r'((?:\\d+室\\d+厅))((?:\\d+厨\\d+卫))')\n",
    "    df['居住空间'] = layout_split[0]\n",
    "    df['功能间'] = layout_split[1]\n",
    "    df.drop(columns=['房屋户型'], inplace=True)\n",
    "\n",
    "    return df\n",
    "\n",
    "df = clean_housing_data(df)"
   ]
  },
  {
   "cell_type": "code",
   "execution_count": 107,
   "metadata": {},
   "outputs": [],
   "source": [
    "# 总价列：去掉“万”并转为 float\n",
    "df['总价(万元)'] = df['总价'].str.replace('万', '', regex=False).astype(float)\n",
    "df.drop(columns=['总价'], inplace=True)\n",
    "\n",
    "# 单价列：去掉“元/平”，去掉逗号，并转为 int\n",
    "df['单价(元/平)'] = df['单价'].str.replace('元/平', '', regex=False).str.replace(',', '').astype(int)\n",
    "df.drop(columns=['单价'], inplace=True)\n",
    "\n",
    "# 房屋面积列：去除“平米”，转为 float\n",
    "df['房屋面积(平米)'] = df['房屋面积'].str.replace('平米', '', regex=False).astype(float)\n",
    "df.drop(columns=['房屋面积'], inplace=True)\n",
    "\n",
    "# 关注人数列：去除“人关注”，转为 int\n",
    "df['关注人数'] = df['关注人数'].str.replace('人关注', '', regex=False).astype(int)\n"
   ]
  },
  {
   "cell_type": "code",
   "execution_count": 108,
   "metadata": {},
   "outputs": [],
   "source": [
    "# 5. 导出处理后的数据\n",
    "df.to_csv('深圳cleaned_data.csv', index=False)"
   ]
  },
  {
   "cell_type": "code",
   "execution_count": 109,
   "metadata": {},
   "outputs": [
    {
     "name": "stdout",
     "output_type": "stream",
     "text": [
      "   小区名称   房屋朝向 装修情况  供暖方式 户型结构  建筑类型  建筑结构  梯户比例 配备电梯       挂牌时间  ... 楼层高低  \\\n",
      "0  兴业大厦      南   其他   NaN   平层    塔楼  钢混结构  两梯八户    有 2024-12-15  ...  高楼层   \n",
      "1  云峰花园  东南 东北   简装   NaN   平层    塔楼  钢混结构  三梯九户    有 2025-02-22  ...  中楼层   \n",
      "2  瑞丰大厦     西南   其他   NaN   平层  板塔结合  框架结构  两梯八户    有 2024-09-04  ...  中楼层   \n",
      "3  云峰花园     西南   精装   NaN   平层    塔楼  钢混结构  三梯九户    有 2025-03-06  ...  高楼层   \n",
      "4   经贸楼    南 北   其他   NaN   平层    板楼  砖混结构  两梯五户    有 2024-06-21  ...  中楼层   \n",
      "\n",
      "  楼层总高度    区   街道  环线位置  居住空间   功能间 总价(万元) 单价(元/平) 房屋面积(平米)  \n",
      "0    19  罗湖区  春风路  None  4室2厅  2厨2卫  315.0   35032    89.92  \n",
      "1    33  罗湖区  春风路  None  4室2厅  1厨2卫  315.0   35554    88.60  \n",
      "2    20  罗湖区  春风路  None  4室1厅  1厨1卫  420.0   58799    71.43  \n",
      "3    33  罗湖区  春风路  None  3室2厅  1厨1卫  350.0   40496    86.43  \n",
      "4     6  罗湖区  春风路  None  2室1厅  1厨1卫  350.0   43937    79.66  \n",
      "\n",
      "[5 rows x 32 columns]\n"
     ]
    }
   ],
   "source": [
    "# 打印处理结果查看\n",
    "print(df.head())"
   ]
  },
  {
   "cell_type": "code",
   "execution_count": null,
   "metadata": {},
   "outputs": [],
   "source": []
  }
 ],
 "metadata": {
  "kernelspec": {
   "display_name": "pytorch2023",
   "language": "python",
   "name": "python3"
  },
  "language_info": {
   "codemirror_mode": {
    "name": "ipython",
    "version": 3
   },
   "file_extension": ".py",
   "mimetype": "text/x-python",
   "name": "python",
   "nbconvert_exporter": "python",
   "pygments_lexer": "ipython3",
   "version": "3.9.21"
  }
 },
 "nbformat": 4,
 "nbformat_minor": 2
}
