{
 "cells": [
  {
   "cell_type": "code",
   "execution_count": 3,
   "id": "14919b90-9175-4253-a47d-539761f903c4",
   "metadata": {},
   "outputs": [
    {
     "ename": "FileNotFoundError",
     "evalue": "[Errno 2] No such file or directory: 'C:\\\\Users\\\\ThinkPad\\\\Desktop\\\\路网\\\\北京2025_04_29_17_43_49.png'",
     "output_type": "error",
     "traceback": [
      "\u001b[1;31m---------------------------------------------------------------------------\u001b[0m",
      "\u001b[1;31mFileNotFoundError\u001b[0m                         Traceback (most recent call last)",
      "Cell \u001b[1;32mIn[3], line 10\u001b[0m\n\u001b[0;32m      8\u001b[0m \u001b[38;5;28;01mfor\u001b[39;00m p \u001b[38;5;129;01min\u001b[39;00m pngs: \n\u001b[0;32m      9\u001b[0m     \u001b[38;5;28;01mif\u001b[39;00m p[\u001b[38;5;241m-\u001b[39m\u001b[38;5;241m4\u001b[39m:] \u001b[38;5;241m==\u001b[39m \u001b[38;5;124m'\u001b[39m\u001b[38;5;124m.png\u001b[39m\u001b[38;5;124m'\u001b[39m: \n\u001b[1;32m---> 10\u001b[0m         image \u001b[38;5;241m=\u001b[39m Image\u001b[38;5;241m.\u001b[39mopen(root\u001b[38;5;241m+\u001b[39mp) \n\u001b[0;32m     11\u001b[0m         short_name \u001b[38;5;241m=\u001b[39m \u001b[38;5;124m'\u001b[39m\u001b[38;5;124mt\u001b[39m\u001b[38;5;124m'\u001b[39m\u001b[38;5;241m+\u001b[39mp[\u001b[38;5;241m5\u001b[39m:\u001b[38;5;241m-\u001b[39m\u001b[38;5;241m7\u001b[39m]\u001b[38;5;241m.\u001b[39mreplace(\u001b[38;5;124m\"\u001b[39m\u001b[38;5;124m_\u001b[39m\u001b[38;5;124m\"\u001b[39m,\u001b[38;5;124m'\u001b[39m\u001b[38;5;124m \u001b[39m\u001b[38;5;124m'\u001b[39m) \u001b[38;5;241m+\u001b[39m \u001b[38;5;124m'\u001b[39m\u001b[38;5;124m.png\u001b[39m\u001b[38;5;124m'\u001b[39m\n\u001b[0;32m     12\u001b[0m         \u001b[38;5;66;03m#整理出一个简短的文件名 考虑到ArcGIS对字段名称的限制\u001b[39;00m\n\u001b[0;32m     13\u001b[0m         \u001b[38;5;66;03m#字段名不能超过9个字符不能是纯数字\u001b[39;00m\n\u001b[0;32m     14\u001b[0m         \u001b[38;5;66;03m#整理后的形如t12310559.png\u001b[39;00m\n",
      "File \u001b[1;32mD:\\setup\\anaconda\\Lib\\site-packages\\PIL\\Image.py:3431\u001b[0m, in \u001b[0;36mopen\u001b[1;34m(fp, mode, formats)\u001b[0m\n\u001b[0;32m   3428\u001b[0m     filename \u001b[38;5;241m=\u001b[39m os\u001b[38;5;241m.\u001b[39mpath\u001b[38;5;241m.\u001b[39mrealpath(os\u001b[38;5;241m.\u001b[39mfspath(fp))\n\u001b[0;32m   3430\u001b[0m \u001b[38;5;28;01mif\u001b[39;00m filename:\n\u001b[1;32m-> 3431\u001b[0m     fp \u001b[38;5;241m=\u001b[39m builtins\u001b[38;5;241m.\u001b[39mopen(filename, \u001b[38;5;124m\"\u001b[39m\u001b[38;5;124mrb\u001b[39m\u001b[38;5;124m\"\u001b[39m)\n\u001b[0;32m   3432\u001b[0m     exclusive_fp \u001b[38;5;241m=\u001b[39m \u001b[38;5;28;01mTrue\u001b[39;00m\n\u001b[0;32m   3433\u001b[0m \u001b[38;5;28;01melse\u001b[39;00m:\n",
      "\u001b[1;31mFileNotFoundError\u001b[0m: [Errno 2] No such file or directory: 'C:\\\\Users\\\\ThinkPad\\\\Desktop\\\\路网\\\\北京2025_04_29_17_43_49.png'"
     ]
    }
   ],
   "source": [
    "import os\n",
    "from PIL import Image\n",
    "\n",
    "root= 'C:\\\\Users\\\\ThinkPad\\\\Desktop\\\\路网\\\\北京' #原栅格所在路径\n",
    "out = 'C:\\\\Users\\\\ThinkPad\\\\Desktop\\\\路网\\\\beijing_blue'\n",
    "pngs=os.listdir(root) #得到所有文件名称\n",
    "\n",
    "for p in pngs: \n",
    "    if p[-4:] == '.png': \n",
    "        image = Image.open(root+p) \n",
    "        short_name = 't'+p[5:-7].replace(\"_\",' ') + '.png'\n",
    "        #整理出一个简短的文件名 考虑到ArcGIS对字段名称的限制\n",
    "        #字段名不能超过9个字符不能是纯数字\n",
    "        #整理后的形如t12310559.png\n",
    "        r,g,b,a=image.split()\n",
    "        b.save(out+short_name) #单独存blue\n",
    "    else:\n",
    "        pass"
   ]
  },
  {
   "cell_type": "code",
   "execution_count": null,
   "id": "e645f621-35e1-4779-b66d-ab8a20d3ebdc",
   "metadata": {},
   "outputs": [],
   "source": []
  }
 ],
 "metadata": {
  "kernelspec": {
   "display_name": "Python 3 (ipykernel)",
   "language": "python",
   "name": "python3"
  },
  "language_info": {
   "codemirror_mode": {
    "name": "ipython",
    "version": 3
   },
   "file_extension": ".py",
   "mimetype": "text/x-python",
   "name": "python",
   "nbconvert_exporter": "python",
   "pygments_lexer": "ipython3",
   "version": "3.12.7"
  }
 },
 "nbformat": 4,
 "nbformat_minor": 5
}
